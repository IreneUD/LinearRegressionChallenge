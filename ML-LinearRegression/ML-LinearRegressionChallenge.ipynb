{
 "cells": [
  {
   "cell_type": "markdown",
   "id": "dc803ebd",
   "metadata": {},
   "source": [
    "Importing libraries that we will need to the analysis:"
   ]
  },
  {
   "cell_type": "code",
   "execution_count": 1,
   "id": "273461e9",
   "metadata": {},
   "outputs": [],
   "source": [
    "import pandas as pd\n",
    "import numpy as np\n",
    "import math\n",
    "from sklearn import linear_model\n",
    "from sklearn.metrics import mean_squared_error, r2_score"
   ]
  },
  {
   "cell_type": "markdown",
   "id": "9bfdcaae",
   "metadata": {},
   "source": [
    "Reading and visualization of the training and test dataset:"
   ]
  },
  {
   "cell_type": "code",
   "execution_count": 2,
   "id": "d5196cc2",
   "metadata": {},
   "outputs": [],
   "source": [
    "dataset_train = pd.read_csv('./j0001_train.csv')\n",
    "dataset_test = pd.read_csv('./j0001_X_test.csv')"
   ]
  },
  {
   "cell_type": "code",
   "execution_count": 3,
   "id": "f639c79a",
   "metadata": {},
   "outputs": [
    {
     "data": {
      "text/html": [
       "<div>\n",
       "<style scoped>\n",
       "    .dataframe tbody tr th:only-of-type {\n",
       "        vertical-align: middle;\n",
       "    }\n",
       "\n",
       "    .dataframe tbody tr th {\n",
       "        vertical-align: top;\n",
       "    }\n",
       "\n",
       "    .dataframe thead th {\n",
       "        text-align: right;\n",
       "    }\n",
       "</style>\n",
       "<table border=\"1\" class=\"dataframe\">\n",
       "  <thead>\n",
       "    <tr style=\"text-align: right;\">\n",
       "      <th></th>\n",
       "      <th>feature1</th>\n",
       "      <th>feature2</th>\n",
       "      <th>feature3</th>\n",
       "      <th>feature4</th>\n",
       "      <th>target</th>\n",
       "    </tr>\n",
       "  </thead>\n",
       "  <tbody>\n",
       "    <tr>\n",
       "      <th>0</th>\n",
       "      <td>0.885598</td>\n",
       "      <td>-0.058136</td>\n",
       "      <td>-0.502394</td>\n",
       "      <td>-0.072880</td>\n",
       "      <td>4.999557</td>\n",
       "    </tr>\n",
       "    <tr>\n",
       "      <th>1</th>\n",
       "      <td>1.391696</td>\n",
       "      <td>0.350938</td>\n",
       "      <td>0.311445</td>\n",
       "      <td>-0.780685</td>\n",
       "      <td>56.613234</td>\n",
       "    </tr>\n",
       "    <tr>\n",
       "      <th>2</th>\n",
       "      <td>-0.599735</td>\n",
       "      <td>-0.072272</td>\n",
       "      <td>1.541158</td>\n",
       "      <td>-0.384914</td>\n",
       "      <td>43.374539</td>\n",
       "    </tr>\n",
       "    <tr>\n",
       "      <th>3</th>\n",
       "      <td>1.108150</td>\n",
       "      <td>1.924439</td>\n",
       "      <td>-0.068485</td>\n",
       "      <td>1.985521</td>\n",
       "      <td>50.226308</td>\n",
       "    </tr>\n",
       "    <tr>\n",
       "      <th>4</th>\n",
       "      <td>-0.724598</td>\n",
       "      <td>-1.485027</td>\n",
       "      <td>-1.755203</td>\n",
       "      <td>-0.254649</td>\n",
       "      <td>-107.187888</td>\n",
       "    </tr>\n",
       "  </tbody>\n",
       "</table>\n",
       "</div>"
      ],
      "text/plain": [
       "   feature1  feature2  feature3  feature4      target\n",
       "0  0.885598 -0.058136 -0.502394 -0.072880    4.999557\n",
       "1  1.391696  0.350938  0.311445 -0.780685   56.613234\n",
       "2 -0.599735 -0.072272  1.541158 -0.384914   43.374539\n",
       "3  1.108150  1.924439 -0.068485  1.985521   50.226308\n",
       "4 -0.724598 -1.485027 -1.755203 -0.254649 -107.187888"
      ]
     },
     "execution_count": 3,
     "metadata": {},
     "output_type": "execute_result"
    }
   ],
   "source": [
    "dataset_train.head()"
   ]
  },
  {
   "cell_type": "code",
   "execution_count": 4,
   "id": "1b00362f",
   "metadata": {},
   "outputs": [
    {
     "data": {
      "text/html": [
       "<div>\n",
       "<style scoped>\n",
       "    .dataframe tbody tr th:only-of-type {\n",
       "        vertical-align: middle;\n",
       "    }\n",
       "\n",
       "    .dataframe tbody tr th {\n",
       "        vertical-align: top;\n",
       "    }\n",
       "\n",
       "    .dataframe thead th {\n",
       "        text-align: right;\n",
       "    }\n",
       "</style>\n",
       "<table border=\"1\" class=\"dataframe\">\n",
       "  <thead>\n",
       "    <tr style=\"text-align: right;\">\n",
       "      <th></th>\n",
       "      <th>feature1</th>\n",
       "      <th>feature2</th>\n",
       "      <th>feature3</th>\n",
       "      <th>feature4</th>\n",
       "    </tr>\n",
       "  </thead>\n",
       "  <tbody>\n",
       "    <tr>\n",
       "      <th>0</th>\n",
       "      <td>0.597102</td>\n",
       "      <td>1.877031</td>\n",
       "      <td>0.304122</td>\n",
       "      <td>-2.236589</td>\n",
       "    </tr>\n",
       "    <tr>\n",
       "      <th>1</th>\n",
       "      <td>-0.076417</td>\n",
       "      <td>0.629597</td>\n",
       "      <td>-0.768331</td>\n",
       "      <td>-0.604651</td>\n",
       "    </tr>\n",
       "    <tr>\n",
       "      <th>2</th>\n",
       "      <td>0.324997</td>\n",
       "      <td>-0.547428</td>\n",
       "      <td>0.209863</td>\n",
       "      <td>-1.202035</td>\n",
       "    </tr>\n",
       "    <tr>\n",
       "      <th>3</th>\n",
       "      <td>-0.200883</td>\n",
       "      <td>0.065955</td>\n",
       "      <td>0.933417</td>\n",
       "      <td>0.104939</td>\n",
       "    </tr>\n",
       "    <tr>\n",
       "      <th>4</th>\n",
       "      <td>-1.251144</td>\n",
       "      <td>-1.491532</td>\n",
       "      <td>0.411994</td>\n",
       "      <td>1.943790</td>\n",
       "    </tr>\n",
       "  </tbody>\n",
       "</table>\n",
       "</div>"
      ],
      "text/plain": [
       "   feature1  feature2  feature3  feature4\n",
       "0  0.597102  1.877031  0.304122 -2.236589\n",
       "1 -0.076417  0.629597 -0.768331 -0.604651\n",
       "2  0.324997 -0.547428  0.209863 -1.202035\n",
       "3 -0.200883  0.065955  0.933417  0.104939\n",
       "4 -1.251144 -1.491532  0.411994  1.943790"
      ]
     },
     "execution_count": 4,
     "metadata": {},
     "output_type": "execute_result"
    }
   ],
   "source": [
    "dataset_test.head()"
   ]
  },
  {
   "cell_type": "markdown",
   "id": "3e782e18",
   "metadata": {},
   "source": [
    "As we could see, we have 4 predictor variables, so we need to apply multiple linear regression"
   ]
  },
  {
   "cell_type": "markdown",
   "id": "de14dedd",
   "metadata": {},
   "source": [
    "To take a first glance about the statistical details of the dataset, I use the function \"describe\""
   ]
  },
  {
   "cell_type": "code",
   "execution_count": 5,
   "id": "59262728",
   "metadata": {
    "scrolled": true
   },
   "outputs": [
    {
     "data": {
      "text/html": [
       "<div>\n",
       "<style scoped>\n",
       "    .dataframe tbody tr th:only-of-type {\n",
       "        vertical-align: middle;\n",
       "    }\n",
       "\n",
       "    .dataframe tbody tr th {\n",
       "        vertical-align: top;\n",
       "    }\n",
       "\n",
       "    .dataframe thead th {\n",
       "        text-align: right;\n",
       "    }\n",
       "</style>\n",
       "<table border=\"1\" class=\"dataframe\">\n",
       "  <thead>\n",
       "    <tr style=\"text-align: right;\">\n",
       "      <th></th>\n",
       "      <th>feature1</th>\n",
       "      <th>feature2</th>\n",
       "      <th>feature3</th>\n",
       "      <th>feature4</th>\n",
       "      <th>target</th>\n",
       "    </tr>\n",
       "  </thead>\n",
       "  <tbody>\n",
       "    <tr>\n",
       "      <th>count</th>\n",
       "      <td>2100.000000</td>\n",
       "      <td>2100.000000</td>\n",
       "      <td>2100.000000</td>\n",
       "      <td>2100.000000</td>\n",
       "      <td>2100.000000</td>\n",
       "    </tr>\n",
       "    <tr>\n",
       "      <th>mean</th>\n",
       "      <td>-0.027414</td>\n",
       "      <td>0.001468</td>\n",
       "      <td>-0.013670</td>\n",
       "      <td>-0.016315</td>\n",
       "      <td>-1.325515</td>\n",
       "    </tr>\n",
       "    <tr>\n",
       "      <th>std</th>\n",
       "      <td>0.986569</td>\n",
       "      <td>0.993519</td>\n",
       "      <td>1.003757</td>\n",
       "      <td>1.008821</td>\n",
       "      <td>49.995929</td>\n",
       "    </tr>\n",
       "    <tr>\n",
       "      <th>min</th>\n",
       "      <td>-3.193735</td>\n",
       "      <td>-3.986392</td>\n",
       "      <td>-2.987483</td>\n",
       "      <td>-3.254383</td>\n",
       "      <td>-153.822702</td>\n",
       "    </tr>\n",
       "    <tr>\n",
       "      <th>25%</th>\n",
       "      <td>-0.705434</td>\n",
       "      <td>-0.637161</td>\n",
       "      <td>-0.704697</td>\n",
       "      <td>-0.714512</td>\n",
       "      <td>-36.070943</td>\n",
       "    </tr>\n",
       "    <tr>\n",
       "      <th>50%</th>\n",
       "      <td>-0.030567</td>\n",
       "      <td>0.030049</td>\n",
       "      <td>-0.022917</td>\n",
       "      <td>-0.021288</td>\n",
       "      <td>-1.646837</td>\n",
       "    </tr>\n",
       "    <tr>\n",
       "      <th>75%</th>\n",
       "      <td>0.670686</td>\n",
       "      <td>0.665407</td>\n",
       "      <td>0.673575</td>\n",
       "      <td>0.693128</td>\n",
       "      <td>32.707651</td>\n",
       "    </tr>\n",
       "    <tr>\n",
       "      <th>max</th>\n",
       "      <td>3.277599</td>\n",
       "      <td>3.190221</td>\n",
       "      <td>3.207883</td>\n",
       "      <td>3.281604</td>\n",
       "      <td>170.703958</td>\n",
       "    </tr>\n",
       "  </tbody>\n",
       "</table>\n",
       "</div>"
      ],
      "text/plain": [
       "          feature1     feature2     feature3     feature4       target\n",
       "count  2100.000000  2100.000000  2100.000000  2100.000000  2100.000000\n",
       "mean     -0.027414     0.001468    -0.013670    -0.016315    -1.325515\n",
       "std       0.986569     0.993519     1.003757     1.008821    49.995929\n",
       "min      -3.193735    -3.986392    -2.987483    -3.254383  -153.822702\n",
       "25%      -0.705434    -0.637161    -0.704697    -0.714512   -36.070943\n",
       "50%      -0.030567     0.030049    -0.022917    -0.021288    -1.646837\n",
       "75%       0.670686     0.665407     0.673575     0.693128    32.707651\n",
       "max       3.277599     3.190221     3.207883     3.281604   170.703958"
      ]
     },
     "execution_count": 5,
     "metadata": {},
     "output_type": "execute_result"
    }
   ],
   "source": [
    "dataset_train.describe()"
   ]
  },
  {
   "cell_type": "markdown",
   "id": "df3ad504",
   "metadata": {},
   "source": [
    "I divide the model between predictor variables and target and train the model with the library Scikit-Learn:"
   ]
  },
  {
   "cell_type": "code",
   "execution_count": 6,
   "id": "4a176dc9",
   "metadata": {},
   "outputs": [],
   "source": [
    "X_train = np.array(dataset_train[['feature1', 'feature2', 'feature3', 'feature4']])\n",
    "y_train = dataset_train['target'].values"
   ]
  },
  {
   "cell_type": "code",
   "execution_count": 7,
   "id": "18524e49",
   "metadata": {},
   "outputs": [],
   "source": [
    "# We train the model with 4 variables\n",
    "regression_model = linear_model.LinearRegression()\n",
    "regression_model = regression_model.fit(X_train, y_train)"
   ]
  },
  {
   "cell_type": "markdown",
   "id": "092e1778",
   "metadata": {},
   "source": [
    "I predict the values to compare the model:"
   ]
  },
  {
   "cell_type": "code",
   "execution_count": 8,
   "id": "cc345731",
   "metadata": {},
   "outputs": [
    {
     "data": {
      "text/plain": [
       "array([  4.99955743,  56.61323375,  43.37453898, ...,  54.71881402,\n",
       "        34.35076859, -72.7152765 ])"
      ]
     },
     "execution_count": 8,
     "metadata": {},
     "output_type": "execute_result"
    }
   ],
   "source": [
    "y_prediction = regression_model.predict(X_train)\n",
    "y_prediction"
   ]
  },
  {
   "cell_type": "markdown",
   "id": "36249f26",
   "metadata": {},
   "source": [
    "Checking the test error with the mean squared error, the variance score and the regression coefficients of our model:"
   ]
  },
  {
   "cell_type": "code",
   "execution_count": 9,
   "id": "ff6a4e64",
   "metadata": {},
   "outputs": [
    {
     "name": "stdout",
     "output_type": "stream",
     "text": [
      "Regression coefficients: \n",
      " [2.90140088e+01 1.08134628e+01 3.99418878e+01 6.32571199e-15]\n",
      "Mean squared error: 0.00\n",
      "Variance score (with 1.0 the best possible value): 1.00\n",
      "Intercept (value at which the fitted line crosses the y-axis): -2.220446049250313e-16\n"
     ]
    }
   ],
   "source": [
    "print('Regression coefficients: \\n', regression_model.coef_)\n",
    "print(\"Mean squared error: %.2f\" % mean_squared_error(y_train, y_prediction))\n",
    "print('Variance score (with 1.0 the best possible value): %.2f' % r2_score(y_train, y_prediction))\n",
    "print('Intercept (value at which the fitted line crosses the y-axis):',regression_model.intercept_)"
   ]
  },
  {
   "cell_type": "markdown",
   "id": "c67bb2ed",
   "metadata": {},
   "source": [
    "What we can observe with regression coefficients obtained is that the 4th column is not relevant to the model"
   ]
  },
  {
   "cell_type": "markdown",
   "id": "7a19d39c",
   "metadata": {},
   "source": [
    "Now, I will be predict with the model out test dataset and print the first 10 results:"
   ]
  },
  {
   "cell_type": "code",
   "execution_count": 10,
   "id": "a81ec14f",
   "metadata": {},
   "outputs": [],
   "source": [
    "X_test = dataset_test\n",
    "y_test = regression_model.predict(X_test)"
   ]
  },
  {
   "cell_type": "code",
   "execution_count": 11,
   "id": "35485e11",
   "metadata": {},
   "outputs": [
    {
     "data": {
      "text/plain": [
       "array([ 49.76877045, -26.0976422 ,  11.89220071,  32.16721412,\n",
       "       -35.973501  , -66.6045499 ,  -1.15629449, -63.96369663,\n",
       "       -21.14764534,  84.21462532])"
      ]
     },
     "execution_count": 11,
     "metadata": {},
     "output_type": "execute_result"
    }
   ],
   "source": [
    "y_test[0:10]"
   ]
  },
  {
   "cell_type": "code",
   "execution_count": 12,
   "id": "b818b3fe",
   "metadata": {},
   "outputs": [],
   "source": [
    "pd.DataFrame(y_test).to_csv('./results.csv', header='results', index=False)"
   ]
  }
 ],
 "metadata": {
  "kernelspec": {
   "display_name": "Python 3",
   "language": "python",
   "name": "python3"
  },
  "language_info": {
   "codemirror_mode": {
    "name": "ipython",
    "version": 3
   },
   "file_extension": ".py",
   "mimetype": "text/x-python",
   "name": "python",
   "nbconvert_exporter": "python",
   "pygments_lexer": "ipython3",
   "version": "3.9.4"
  }
 },
 "nbformat": 4,
 "nbformat_minor": 5
}
